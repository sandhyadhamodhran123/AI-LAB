{
  "nbformat": 4,
  "nbformat_minor": 0,
  "metadata": {
    "colab": {
      "provenance": [],
      "authorship_tag": "ABX9TyNsPn392SoUsCZ52Jq19BEU",
      "include_colab_link": true
    },
    "kernelspec": {
      "name": "python3",
      "display_name": "Python 3"
    },
    "language_info": {
      "name": "python"
    }
  },
  "cells": [
    {
      "cell_type": "markdown",
      "metadata": {
        "id": "view-in-github",
        "colab_type": "text"
      },
      "source": [
        "<a href=\"https://colab.research.google.com/github/sandhyadhamodhran123/AI-LAB/blob/main/8queen.ipynb\" target=\"_parent\"><img src=\"https://colab.research.google.com/assets/colab-badge.svg\" alt=\"Open In Colab\"/></a>"
      ]
    },
    {
      "cell_type": "code",
      "execution_count": 1,
      "metadata": {
        "colab": {
          "base_uri": "https://localhost:8080/"
        },
        "id": "3-fKxL1w77Gq",
        "outputId": "7ff51eff-4880-4378-cc96-ca61ee4a4a1c"
      },
      "outputs": [
        {
          "output_type": "stream",
          "name": "stdout",
          "text": [
            "Q . . . . . . .\n",
            ". . . . Q . . .\n",
            ". . . . . . . Q\n",
            ". . . . . Q . .\n",
            ". . Q . . . . .\n",
            ". . . . . . Q .\n",
            ". Q . . . . . .\n",
            ". . . Q . . . .\n"
          ]
        }
      ],
      "source": [
        "def solveNQueens(N):\n",
        "    chessboard = [['.' for _ in range(N)] for _ in range(N)]\n",
        "\n",
        "    if placeQueens(0, N, chessboard):\n",
        "        printSolution(chessboard)\n",
        "    else:\n",
        "        print(\"No solution exists\")\n",
        "\n",
        "def placeQueens(row, N, chessboard):\n",
        "    if row == N:\n",
        "        return True  # All queens are placed successfully\n",
        "\n",
        "    for col in range(N):\n",
        "        if isSafe(row, col, N, chessboard):\n",
        "            chessboard[row][col] = 'Q'  # Place queen\n",
        "            if placeQueens(row + 1, N, chessboard):\n",
        "                return True  # Queen placement successful for remaining rows\n",
        "            chessboard[row][col] = '.'  # Backtrack if placement is unsuccessful\n",
        "\n",
        "    return False  # No safe placement for the current row\n",
        "\n",
        "def isSafe(row, col, N, chessboard):\n",
        "    # Check column\n",
        "    for i in range(row):\n",
        "        if chessboard[i][col] == 'Q':\n",
        "            return False\n",
        "\n",
        "    # Check upper-left diagonal\n",
        "    i, j = row - 1, col - 1\n",
        "    while i >= 0 and j >= 0:\n",
        "        if chessboard[i][j] == 'Q':\n",
        "            return False\n",
        "        i -= 1\n",
        "        j -= 1\n",
        "\n",
        "    # Check upper-right diagonal\n",
        "    i, j = row - 1, col + 1\n",
        "    while i >= 0 and j < N:\n",
        "        if chessboard[i][j] == 'Q':\n",
        "            return False\n",
        "        i -= 1\n",
        "        j += 1\n",
        "\n",
        "    return True\n",
        "\n",
        "def printSolution(chessboard):\n",
        "    for row in chessboard:\n",
        "        print(\" \".join(row))\n",
        "\n",
        "# Example usage\n",
        "N = 8  # Change this value to solve for different board sizes\n",
        "solveNQueens(N)"
      ]
    }
  ]
}